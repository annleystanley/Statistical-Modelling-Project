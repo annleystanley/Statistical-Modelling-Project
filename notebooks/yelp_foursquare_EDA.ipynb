{
 "cells": [
  {
   "cell_type": "code",
   "execution_count": 1,
   "metadata": {},
   "outputs": [],
   "source": [
    "import os\n",
    "import requests\n",
    "import json\n",
    "import pprint\n",
    "import pandas as pd\n",
    "from pandas import json_normalize"
   ]
  },
  {
   "cell_type": "code",
   "execution_count": 11,
   "metadata": {},
   "outputs": [
    {
     "data": {
      "text/html": [
       "<div>\n",
       "<style scoped>\n",
       "    .dataframe tbody tr th:only-of-type {\n",
       "        vertical-align: middle;\n",
       "    }\n",
       "\n",
       "    .dataframe tbody tr th {\n",
       "        vertical-align: top;\n",
       "    }\n",
       "\n",
       "    .dataframe thead th {\n",
       "        text-align: right;\n",
       "    }\n",
       "</style>\n",
       "<table border=\"1\" class=\"dataframe\">\n",
       "  <thead>\n",
       "    <tr style=\"text-align: right;\">\n",
       "      <th></th>\n",
       "      <th>latitude</th>\n",
       "      <th>longitude</th>\n",
       "      <th>total_bikes</th>\n",
       "      <th>id</th>\n",
       "      <th>ll</th>\n",
       "    </tr>\n",
       "  </thead>\n",
       "  <tbody>\n",
       "    <tr>\n",
       "      <th>0</th>\n",
       "      <td>41.765862</td>\n",
       "      <td>-87.614787</td>\n",
       "      <td>2</td>\n",
       "      <td>0503ab6ec0734343264ef6f2e972c32b</td>\n",
       "      <td>41.765862%2C-87.614787</td>\n",
       "    </tr>\n",
       "    <tr>\n",
       "      <th>1</th>\n",
       "      <td>41.870959</td>\n",
       "      <td>-87.700259</td>\n",
       "      <td>8</td>\n",
       "      <td>3b5764e0f031bd56d4b7985250805270</td>\n",
       "      <td>41.870959%2C-87.700259</td>\n",
       "    </tr>\n",
       "    <tr>\n",
       "      <th>2</th>\n",
       "      <td>41.666395</td>\n",
       "      <td>-87.619933</td>\n",
       "      <td>1</td>\n",
       "      <td>4067cf8e05861b94b7f003d1c2955f07</td>\n",
       "      <td>41.666395%2C-87.619933</td>\n",
       "    </tr>\n",
       "    <tr>\n",
       "      <th>3</th>\n",
       "      <td>41.775144</td>\n",
       "      <td>-87.708129</td>\n",
       "      <td>15</td>\n",
       "      <td>a08a288f5a66216ca4bc4091dd34f94c</td>\n",
       "      <td>41.775144%2C-87.708129</td>\n",
       "    </tr>\n",
       "    <tr>\n",
       "      <th>4</th>\n",
       "      <td>41.942423</td>\n",
       "      <td>-87.747130</td>\n",
       "      <td>1</td>\n",
       "      <td>b7013ce71928ecee4dec9478a2d4fce6</td>\n",
       "      <td>41.9424235%2C-87.74713</td>\n",
       "    </tr>\n",
       "    <tr>\n",
       "      <th>...</th>\n",
       "      <td>...</td>\n",
       "      <td>...</td>\n",
       "      <td>...</td>\n",
       "      <td>...</td>\n",
       "      <td>...</td>\n",
       "    </tr>\n",
       "    <tr>\n",
       "      <th>562</th>\n",
       "      <td>41.939398</td>\n",
       "      <td>-87.711561</td>\n",
       "      <td>12</td>\n",
       "      <td>8331b895b5ffe28350476baa3eb663c0</td>\n",
       "      <td>41.939398%2C-87.711561</td>\n",
       "    </tr>\n",
       "    <tr>\n",
       "      <th>563</th>\n",
       "      <td>41.871467</td>\n",
       "      <td>-87.640949</td>\n",
       "      <td>14</td>\n",
       "      <td>ee6928bd2a7172a0189305ebc12505c3</td>\n",
       "      <td>41.87146651779%2C-87.6409491327</td>\n",
       "    </tr>\n",
       "    <tr>\n",
       "      <th>564</th>\n",
       "      <td>41.761605</td>\n",
       "      <td>-87.644161</td>\n",
       "      <td>14</td>\n",
       "      <td>28fb285fa4ba2bf2278c62318cd027a5</td>\n",
       "      <td>41.76160543804394%2C-87.64416097666071</td>\n",
       "    </tr>\n",
       "    <tr>\n",
       "      <th>565</th>\n",
       "      <td>41.735820</td>\n",
       "      <td>-87.646896</td>\n",
       "      <td>1</td>\n",
       "      <td>07af56c9f9a794c006a0d4414a4a6a92</td>\n",
       "      <td>41.73582%2C-87.646896</td>\n",
       "    </tr>\n",
       "    <tr>\n",
       "      <th>566</th>\n",
       "      <td>41.859360</td>\n",
       "      <td>-87.703020</td>\n",
       "      <td>8</td>\n",
       "      <td>2d2630f0140dcbcd6f732b439d4129ae</td>\n",
       "      <td>41.85936%2C-87.70302</td>\n",
       "    </tr>\n",
       "  </tbody>\n",
       "</table>\n",
       "<p>567 rows × 5 columns</p>\n",
       "</div>"
      ],
      "text/plain": [
       "      latitude  longitude  total_bikes                                id  \\\n",
       "0    41.765862 -87.614787            2  0503ab6ec0734343264ef6f2e972c32b   \n",
       "1    41.870959 -87.700259            8  3b5764e0f031bd56d4b7985250805270   \n",
       "2    41.666395 -87.619933            1  4067cf8e05861b94b7f003d1c2955f07   \n",
       "3    41.775144 -87.708129           15  a08a288f5a66216ca4bc4091dd34f94c   \n",
       "4    41.942423 -87.747130            1  b7013ce71928ecee4dec9478a2d4fce6   \n",
       "..         ...        ...          ...                               ...   \n",
       "562  41.939398 -87.711561           12  8331b895b5ffe28350476baa3eb663c0   \n",
       "563  41.871467 -87.640949           14  ee6928bd2a7172a0189305ebc12505c3   \n",
       "564  41.761605 -87.644161           14  28fb285fa4ba2bf2278c62318cd027a5   \n",
       "565  41.735820 -87.646896            1  07af56c9f9a794c006a0d4414a4a6a92   \n",
       "566  41.859360 -87.703020            8  2d2630f0140dcbcd6f732b439d4129ae   \n",
       "\n",
       "                                         ll  \n",
       "0                    41.765862%2C-87.614787  \n",
       "1                    41.870959%2C-87.700259  \n",
       "2                    41.666395%2C-87.619933  \n",
       "3                    41.775144%2C-87.708129  \n",
       "4                    41.9424235%2C-87.74713  \n",
       "..                                      ...  \n",
       "562                  41.939398%2C-87.711561  \n",
       "563         41.87146651779%2C-87.6409491327  \n",
       "564  41.76160543804394%2C-87.64416097666071  \n",
       "565                   41.73582%2C-87.646896  \n",
       "566                    41.85936%2C-87.70302  \n",
       "\n",
       "[567 rows x 5 columns]"
      ]
     },
     "execution_count": 11,
     "metadata": {},
     "output_type": "execute_result"
    }
   ],
   "source": [
    "bikes_df = pd.read_csv('../data/city_bikes.csv')\n",
    "bikes_df['ll'] = bikes_df['latitude'].astype(str) + '%2C' + bikes_df['longitude'].astype(str)\n",
    "bikes_df\n",
    "\n",
    "# foursquare is really sensitive about latitude and longitude, so added a column that has them already formatted for the fsq api format"
   ]
  },
  {
   "cell_type": "markdown",
   "metadata": {},
   "source": [
    "# Foursquare"
   ]
  },
  {
   "cell_type": "markdown",
   "metadata": {},
   "source": [
    "Send a request to Foursquare with a small radius (1000m) for all the bike stations in your city of choice. "
   ]
  },
  {
   "cell_type": "code",
   "execution_count": 3,
   "metadata": {},
   "outputs": [],
   "source": [
    "# FSQ API ID Info\n",
    "foursquare_id = os.environ['FSQ_ID']\n",
    "foursquare_secret = os.environ[\"FSQ_API\"]"
   ]
  },
  {
   "cell_type": "markdown",
   "metadata": {},
   "source": [
    "### Codes:\n",
    "-   restaurant : 13065 \n",
    "-   ice cream parlour: 13046\n",
    "-   museums : 10028\n",
    "-   parks : 16032\n",
    "-   bookstore : 17018"
   ]
  },
  {
   "cell_type": "code",
   "execution_count": 18,
   "metadata": {},
   "outputs": [],
   "source": [
    "# function for pulling fsq information\n",
    "# decided to do a pull of 10 for each category as opposed to one pull of 50\n",
    "# this guarantees I get a mix of all of my categories, as opposed to a majority of one over the other\n",
    "\n",
    "# restaurant : 13065 \n",
    "def fsq_locations_resto(lat_lon):\n",
    "       \n",
    "    # construct url\n",
    "    url= \"https://api.foursquare.com/v3/places/search?ll=\" + lat_lon + \"&radius=1000&categories=13065&limit=10\"\n",
    "    \n",
    "    # create dictionary for headers\n",
    "    headers = {\"Accept\": \"application/json\",\n",
    "              'Authorization' : foursquare_secret}    \n",
    "        \n",
    "    # perform get request\n",
    "    response = requests.get(url, headers=headers)\n",
    "\n",
    "    # process request into usable JSON file\n",
    "    fsq_response = json.loads(response.text)\n",
    "    fsq_data_resto.append(fsq_response)\n",
    "    \n",
    "    #print(response)\n",
    "    \n",
    "# ice cream parlour: 13046\n",
    "def fsq_locations_ice_cream(lat_lon):\n",
    "       \n",
    "    # construct url\n",
    "    url= \"https://api.foursquare.com/v3/places/search?ll=\" + lat_lon + \"&radius=13046&categories=13065&limit=10\"\n",
    "    \n",
    "    # create dictionary for headers\n",
    "    headers = {\"Accept\": \"application/json\",\n",
    "              'Authorization' : foursquare_secret}    \n",
    "        \n",
    "    # perform get request\n",
    "    response = requests.get(url, headers=headers)\n",
    "\n",
    "    # process request into usable JSON file\n",
    "    fsq_response = json.loads(response.text)\n",
    "    fsq_data_ice_cream.append(fsq_response)\n",
    "\n",
    "# museums : 10028\n",
    "def fsq_locations_museum(lat_lon):\n",
    "       \n",
    "    # construct url\n",
    "    url= \"https://api.foursquare.com/v3/places/search?ll=\" + lat_lon + \"&radius=10028&categories=13065&limit=10\"\n",
    "    \n",
    "    # create dictionary for headers\n",
    "    headers = {\"Accept\": \"application/json\",\n",
    "              'Authorization' : foursquare_secret}    \n",
    "        \n",
    "    # perform get request\n",
    "    response = requests.get(url, headers=headers)\n",
    "\n",
    "    # process request into usable JSON file\n",
    "    fsq_response = json.loads(response.text)\n",
    "    fsq_data_museum.append(fsq_response)\n",
    "\n",
    "\n",
    "# parks : 16032\n",
    "def fsq_locations_park(lat_lon):\n",
    "       \n",
    "    # construct url\n",
    "    url= \"https://api.foursquare.com/v3/places/search?ll=\" + lat_lon + \"&radius=16032&categories=13065&limit=10\"\n",
    "    \n",
    "    # create dictionary for headers\n",
    "    headers = {\"Accept\": \"application/json\",\n",
    "              'Authorization' : foursquare_secret}    \n",
    "        \n",
    "    # perform get request\n",
    "    response = requests.get(url, headers=headers)\n",
    "\n",
    "    # process request into usable JSON file\n",
    "    fsq_response = json.loads(response.text)\n",
    "    fsq_data_park.append(fsq_response)\n",
    "\n",
    "\n",
    "# bookstore : 17018\n",
    "def fsq_locations_books(lat_lon):\n",
    "       \n",
    "    # construct url\n",
    "    url= \"https://api.foursquare.com/v3/places/search?ll=\" + lat_lon + \"&radius=17018&categories=13065&limit=10\"\n",
    "    \n",
    "    # create dictionary for headers\n",
    "    headers = {\"Accept\": \"application/json\",\n",
    "              'Authorization' : foursquare_secret}    \n",
    "        \n",
    "    # perform get request\n",
    "    response = requests.get(url, headers=headers)\n",
    "\n",
    "    # process request into usable JSON file\n",
    "    fsq_response = json.loads(response.text)\n",
    "    fsq_data_books.append(fsq_response)"
   ]
  },
  {
   "cell_type": "code",
   "execution_count": 8,
   "metadata": {},
   "outputs": [
    {
     "name": "stdout",
     "output_type": "stream",
     "text": [
      "<Response [200]>\n"
     ]
    }
   ],
   "source": [
    "# making sure above get works\n",
    "fsq_locations_resto(bikes_df['ll'][0])\n"
   ]
  },
  {
   "cell_type": "code",
   "execution_count": 19,
   "metadata": {},
   "outputs": [],
   "source": [
    "# loop for pulling fsq info\n",
    "num_rows = bikes_df.shape[0]\n",
    "row_count = 0\n",
    "\n",
    "# making a place to save the file\n",
    "fsq_data_resto = []\n",
    "fsq_data_ice_cream = []\n",
    "fsq_data_museum = []\n",
    "fsq_data_park = []\n",
    "fsq_data_books = []\n",
    "\n",
    "while row_count < num_rows:\n",
    "    fsq_locations_resto(bikes_df.iloc[row_count,4])\n",
    "    fsq_locations_ice_cream(bikes_df.iloc[row_count,4])\n",
    "    fsq_locations_museum(bikes_df.iloc[row_count,4])\n",
    "    fsq_locations_park(bikes_df.iloc[row_count,4])\n",
    "    fsq_locations_books(bikes_df.iloc[row_count,4])\n",
    "    row_count += 1"
   ]
  },
  {
   "cell_type": "code",
   "execution_count": null,
   "metadata": {
    "scrolled": true
   },
   "outputs": [],
   "source": [
    "fsq_data_resto"
   ]
  },
  {
   "cell_type": "code",
   "execution_count": 23,
   "metadata": {},
   "outputs": [],
   "source": [
    "# saving results as json files for convenience\n",
    "\n",
    "with open('fsq_data_resto.json', 'w') as f:\n",
    "    json.dump(fsq_data_resto, f)\n",
    "with open('fsq_data_ice_cream.json', 'w') as f:\n",
    "    json.dump(fsq_data_ice_cream, f)\n",
    "with open('fsq_data_museum.json', 'w') as f:\n",
    "    json.dump(fsq_data_museum, f)\n",
    "with open('fsq_data_park.json', 'w') as f:\n",
    "    json.dump(fsq_data_park, f)\n",
    "with open('fsq_data_books.json', 'w') as f:\n",
    "    json.dump(fsq_data_books, f)"
   ]
  },
  {
   "cell_type": "code",
   "execution_count": null,
   "metadata": {},
   "outputs": [],
   "source": []
  },
  {
   "cell_type": "code",
   "execution_count": null,
   "metadata": {},
   "outputs": [],
   "source": []
  },
  {
   "cell_type": "markdown",
   "metadata": {},
   "source": [
    "Parse through the response to get the POI (such as restaurants, bars, etc) details you want (ratings, name, location, etc)"
   ]
  },
  {
   "cell_type": "markdown",
   "metadata": {},
   "source": [
    "Put your parsed results into a DataFrame"
   ]
  },
  {
   "cell_type": "code",
   "execution_count": null,
   "metadata": {},
   "outputs": [],
   "source": []
  },
  {
   "cell_type": "markdown",
   "metadata": {},
   "source": [
    "# Yelp"
   ]
  },
  {
   "cell_type": "markdown",
   "metadata": {},
   "source": [
    "Send a request to Yelp with a small radius (1000m) for all the bike stations in your city of choice. "
   ]
  },
  {
   "cell_type": "code",
   "execution_count": null,
   "metadata": {},
   "outputs": [],
   "source": []
  },
  {
   "cell_type": "markdown",
   "metadata": {},
   "source": [
    "Parse through the response to get the POI (such as restaurants, bars, etc) details you want (ratings, name, location, etc)"
   ]
  },
  {
   "cell_type": "code",
   "execution_count": null,
   "metadata": {},
   "outputs": [],
   "source": []
  },
  {
   "cell_type": "markdown",
   "metadata": {},
   "source": [
    "Put your parsed results into a DataFrame"
   ]
  },
  {
   "cell_type": "markdown",
   "metadata": {},
   "source": []
  },
  {
   "cell_type": "markdown",
   "metadata": {},
   "source": [
    "# Comparing Results"
   ]
  },
  {
   "cell_type": "markdown",
   "metadata": {},
   "source": [
    "Which API provided you with more complete data? Provide an explanation. "
   ]
  },
  {
   "cell_type": "markdown",
   "metadata": {},
   "source": []
  },
  {
   "cell_type": "markdown",
   "metadata": {},
   "source": [
    "Get the top 10 restaurants according to their rating"
   ]
  },
  {
   "cell_type": "code",
   "execution_count": null,
   "metadata": {},
   "outputs": [],
   "source": []
  }
 ],
 "metadata": {
  "kernelspec": {
   "display_name": "Python 3 (ipykernel)",
   "language": "python",
   "name": "python3"
  },
  "language_info": {
   "codemirror_mode": {
    "name": "ipython",
    "version": 3
   },
   "file_extension": ".py",
   "mimetype": "text/x-python",
   "name": "python",
   "nbconvert_exporter": "python",
   "pygments_lexer": "ipython3",
   "version": "3.9.12"
  }
 },
 "nbformat": 4,
 "nbformat_minor": 4
}
